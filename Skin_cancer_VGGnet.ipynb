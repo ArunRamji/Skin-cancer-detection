{
  "nbformat": 4,
  "nbformat_minor": 0,
  "metadata": {
    "colab": {
      "name": "Skin cancer VGGnet",
      "provenance": [],
      "collapsed_sections": [],
      "mount_file_id": "1diCvCeySUJIVY3FTS5R12yCPjSjLawwd",
      "authorship_tag": "ABX9TyOvywJCLkf7BGxv3CJPhXI1",
      "include_colab_link": true
    },
    "kernelspec": {
      "name": "python3",
      "display_name": "Python 3"
    },
    "accelerator": "GPU"
  },
  "cells": [
    {
      "cell_type": "markdown",
      "metadata": {
        "id": "view-in-github",
        "colab_type": "text"
      },
      "source": [
        "<a href=\"https://colab.research.google.com/github/ArunRamji/Skin-cancer-detection/blob/master/Skin_cancer_VGGnet.ipynb\" target=\"_parent\"><img src=\"https://colab.research.google.com/assets/colab-badge.svg\" alt=\"Open In Colab\"/></a>"
      ]
    },
    {
      "cell_type": "code",
      "metadata": {
        "id": "JP2AkpK33cYO",
        "colab_type": "code",
        "colab": {}
      },
      "source": [
        "#from google.colab import files\n",
        "#uploaded = files.upload()\n",
        "\n",
        "#!unzip /content/drive/My Drive/Datasets/Skin_cancer.zip -d /Dataset\n",
        "\n",
        "!unzip -uq \"/content/drive/My Drive/Datasets/Skin_cancer.zip\" -d \"/Dataset\"\n"
      ],
      "execution_count": 1,
      "outputs": []
    },
    {
      "cell_type": "code",
      "metadata": {
        "id": "yUZUjYMTBksk",
        "colab_type": "code",
        "colab": {
          "base_uri": "https://localhost:8080/",
          "height": 34
        },
        "outputId": "53841b9a-951e-4533-b78e-7ff910788872"
      },
      "source": [
        "#to check gpu connected\n",
        "import tensorflow as tf \n",
        "tf.test.gpu_device_name()"
      ],
      "execution_count": null,
      "outputs": [
        {
          "output_type": "execute_result",
          "data": {
            "text/plain": [
              "'/device:GPU:0'"
            ]
          },
          "metadata": {
            "tags": []
          },
          "execution_count": 2
        }
      ]
    },
    {
      "cell_type": "code",
      "metadata": {
        "id": "Y6bzIAuo2ENr",
        "colab_type": "code",
        "colab": {
          "base_uri": "https://localhost:8080/",
          "height": 476
        },
        "outputId": "60172f2d-b140-44bf-93d7-e5f153e6db84"
      },
      "source": [
        "from tensorflow.python.client import device_lib\n",
        "device_lib.list_local_devices()"
      ],
      "execution_count": null,
      "outputs": [
        {
          "output_type": "execute_result",
          "data": {
            "text/plain": [
              "[name: \"/device:CPU:0\"\n",
              " device_type: \"CPU\"\n",
              " memory_limit: 268435456\n",
              " locality {\n",
              " }\n",
              " incarnation: 6602401913119276305, name: \"/device:XLA_CPU:0\"\n",
              " device_type: \"XLA_CPU\"\n",
              " memory_limit: 17179869184\n",
              " locality {\n",
              " }\n",
              " incarnation: 853497195116501803\n",
              " physical_device_desc: \"device: XLA_CPU device\", name: \"/device:XLA_GPU:0\"\n",
              " device_type: \"XLA_GPU\"\n",
              " memory_limit: 17179869184\n",
              " locality {\n",
              " }\n",
              " incarnation: 15285217857849395136\n",
              " physical_device_desc: \"device: XLA_GPU device\", name: \"/device:GPU:0\"\n",
              " device_type: \"GPU\"\n",
              " memory_limit: 11150726272\n",
              " locality {\n",
              "   bus_id: 1\n",
              "   links {\n",
              "   }\n",
              " }\n",
              " incarnation: 6181780381073538773\n",
              " physical_device_desc: \"device: 0, name: Tesla K80, pci bus id: 0000:00:04.0, compute capability: 3.7\"]"
            ]
          },
          "metadata": {
            "tags": []
          },
          "execution_count": 7
        }
      ]
    },
    {
      "cell_type": "code",
      "metadata": {
        "id": "soY85RpY3z3e",
        "colab_type": "code",
        "colab": {
          "base_uri": "https://localhost:8080/",
          "height": 34
        },
        "outputId": "9666d45d-e5ce-4d44-8ef6-f96601b72e1e"
      },
      "source": [
        "#Model1 - VGG\n",
        "\n",
        "import keras \n",
        "from keras.models import Sequential\n",
        "from keras.layers import Conv2D\n",
        "from keras.layers import MaxPool2D\n",
        "from keras.layers import Flatten\n",
        "from keras.layers import Dense\n",
        "\n",
        "#import dropout class if needed\n",
        "from keras.layers import Dropout\n",
        "\n",
        "from keras import regularizers\n",
        "\n",
        "model = Sequential()\n",
        "model.add(Conv2D(input_shape=(224,224,3),filters=64,kernel_size=(3,3),padding=\"same\", activation=\"relu\",strides=1))\n",
        "model.add(Conv2D(filters=64,kernel_size=(3,3),padding=\"same\", activation=\"relu\",strides=1))\n",
        "model.add(MaxPool2D(pool_size=(2,2),strides=(2,2)))\n",
        "model.add(Conv2D(filters=128, kernel_size=(3,3), padding=\"same\", activation=\"relu\"))\n",
        "model.add(Conv2D(filters=128, kernel_size=(3,3), padding=\"same\", activation=\"relu\"))\n",
        "model.add(MaxPool2D(pool_size=(2,2),strides=(2,2)))\n",
        "model.add(Conv2D(filters=256, kernel_size=(3,3), padding=\"same\", activation=\"relu\"))\n",
        "model.add(Conv2D(filters=256, kernel_size=(3,3), padding=\"same\", activation=\"relu\"))\n",
        "model.add(Conv2D(filters=256, kernel_size=(3,3), padding=\"same\", activation=\"relu\"))\n",
        "model.add(MaxPool2D(pool_size=(2,2),strides=(2,2)))\n",
        "model.add(Conv2D(filters=512, kernel_size=(3,3), padding=\"same\", activation=\"relu\"))\n",
        "model.add(Conv2D(filters=512, kernel_size=(3,3), padding=\"same\", activation=\"relu\"))\n",
        "model.add(Conv2D(filters=512, kernel_size=(3,3), padding=\"same\", activation=\"relu\"))\n",
        "model.add(MaxPool2D(pool_size=(2,2),strides=(2,2)))\n",
        "model.add(Conv2D(filters=512, kernel_size=(3,3), padding=\"same\", activation=\"relu\"))\n",
        "model.add(Conv2D(filters=512, kernel_size=(3,3), padding=\"same\", activation=\"relu\"))\n",
        "model.add(Conv2D(filters=512, kernel_size=(3,3), padding=\"same\", activation=\"relu\"))\n",
        "model.add(MaxPool2D(pool_size=(2,2),strides=(2,2)))\n",
        "\n",
        "#Flatten\n",
        "model.add(Flatten())\n",
        "#Layer 3\n",
        "#Fully connected layer 1\n",
        "model.add(Dense(units=4096,activation='relu'))\n",
        "                     #,kernel_regularizer=regularizers.l2(0.01)))\n",
        "model.add(Dropout(rate=0.5))\n",
        "#Layer 4\n",
        "#Fully connected layer 2\n",
        "model.add(Dense(units=4096,activation='relu'))\n",
        "                     #,kernel_regularizer=regularizers.l2(0.01)))\n",
        "model.add(Dropout(rate=0.5))\n",
        "#Layer 5\n",
        "#Output Layer\n",
        "model.add(Dense(units = 1, activation = 'sigmoid'))\n",
        "\n",
        "#compile\n",
        "model.compile(optimizer = 'adam', loss = 'binary_crossentropy', metrics = ['accuracy'])\n"
      ],
      "execution_count": null,
      "outputs": [
        {
          "output_type": "stream",
          "text": [
            "Using TensorFlow backend.\n"
          ],
          "name": "stderr"
        }
      ]
    },
    {
      "cell_type": "code",
      "metadata": {
        "id": "VeDMChPzaW7F",
        "colab_type": "code",
        "colab": {
          "base_uri": "https://localhost:8080/",
          "height": 34
        },
        "outputId": "b0fef056-a7b4-464d-e6ad-608b0d89a6e9"
      },
      "source": [
        "#Model 2 - Sinmple CNN\n",
        "\n",
        "from keras.models import Sequential\n",
        "from keras.layers import Conv2D, MaxPooling2D\n",
        "from keras.layers import Activation, Dropout, Flatten, Dense\n",
        "\n",
        "model = Sequential()\n",
        "model.add(Conv2D(32, (3, 3), input_shape=(150, 150,3)))\n",
        "model.add(Activation('relu'))\n",
        "model.add(MaxPooling2D(pool_size=(2, 2)))\n",
        "\n",
        "model.add(Conv2D(32, (3, 3)))\n",
        "model.add(Activation('relu'))\n",
        "model.add(MaxPooling2D(pool_size=(2, 2)))\n",
        "\n",
        "model.add(Conv2D(64, (3, 3)))\n",
        "model.add(Activation('relu'))\n",
        "model.add(MaxPooling2D(pool_size=(2, 2)))\n",
        "\n",
        "model.add(Flatten())  # this converts our 3D feature maps to 1D feature vectors\n",
        "model.add(Dense(64))\n",
        "model.add(Activation('relu'))\n",
        "model.add(Dropout(0.5))\n",
        "model.add(Dense(units=1))\n",
        "model.add(Activation('sigmoid'))\n",
        "\n",
        "model.compile(loss='binary_crossentropy',\n",
        "              optimizer='rmsprop',\n",
        "              metrics=['accuracy'])\n"
      ],
      "execution_count": null,
      "outputs": [
        {
          "output_type": "stream",
          "text": [
            "Using TensorFlow backend.\n"
          ],
          "name": "stderr"
        }
      ]
    },
    {
      "cell_type": "code",
      "metadata": {
        "id": "Diwbk_iN_pw7",
        "colab_type": "code",
        "colab": {
          "base_uri": "https://localhost:8080/",
          "height": 51
        },
        "outputId": "ff76a4cc-8ca2-42f7-d985-a2918d57f5cf"
      },
      "source": [
        "from keras.preprocessing.image import ImageDataGenerator,array_to_img, img_to_array, load_img\n",
        "\n",
        "#Image Augmentation\n",
        "train_datagen = ImageDataGenerator(\n",
        "        rescale=1./255, #rescaling pixel value bw 0 and 1\n",
        "        shear_range=0.2,\n",
        "        zoom_range=0.2,\n",
        "        horizontal_flip=True,\n",
        "        vertical_flip=True,\n",
        "        rotation_range=40,\n",
        "        width_shift_range=0.2,\n",
        "        height_shift_range=0.2,\n",
        "        fill_mode='nearest'\n",
        "        )\n",
        "\n",
        "#Just Feature scaling\n",
        "test_datagen = ImageDataGenerator(rescale=1./255)\n",
        "\n",
        "training_set = train_datagen.flow_from_directory(\n",
        "       '/Dataset/Skin_cancer/training',\n",
        "        target_size=(150, 150),\n",
        "        batch_size=13,\n",
        "        class_mode='binary')\n",
        "\n",
        "test_set = test_datagen.flow_from_directory(\n",
        "        '/Dataset/Skin_cancer/testing',\n",
        "        target_size=(150, 150),\n",
        "        batch_size=13,\n",
        "        class_mode='binary')"
      ],
      "execution_count": null,
      "outputs": [
        {
          "output_type": "stream",
          "text": [
            "Found 1729 images belonging to 2 classes.\n",
            "Found 208 images belonging to 2 classes.\n"
          ],
          "name": "stdout"
        }
      ]
    },
    {
      "cell_type": "code",
      "metadata": {
        "id": "_K5px2QlVn5U",
        "colab_type": "code",
        "colab": {}
      },
      "source": [
        "#sample of how would augmentation look a like\n",
        "\n",
        "img = load_img('/Dataset/Skin_cancer/training/Malignant/ISIC_0000013.jpg')  # this is a PIL image\n",
        "x = img_to_array(img)  # this is a Numpy array with shape (3, 150, 150)\n",
        "x = x.reshape((1,) + x.shape)  # this is a Numpy array with shape (1, 3, 150, 150)\n",
        "\n",
        "# the .flow() command below generates batches of randomly transformed images\n",
        "# and saves the results to the `preview/` directory\n",
        "i = 0\n",
        "for batch in train_datagen.flow(x, batch_size=1,\n",
        "                          save_to_dir='/Dataset/', save_prefix='skin', save_format='jpeg'):\n",
        "    i += 1\n",
        "    if i > 20:\n",
        "        break  # otherwise the generator would loop indefinitely"
      ],
      "execution_count": null,
      "outputs": []
    },
    {
      "cell_type": "code",
      "metadata": {
        "id": "nC1nUIZWAJEj",
        "colab_type": "code",
        "colab": {
          "base_uri": "https://localhost:8080/",
          "height": 1000
        },
        "outputId": "43852ed4-6f5c-4e10-eea7-8fd15de6ba5b"
      },
      "source": [
        "history = model.fit_generator(\n",
        "        training_set,\n",
        "        steps_per_epoch=1729//13,   #number of input (image)\n",
        "        epochs=50,\n",
        "        validation_data=test_set\n",
        "        ,shuffle=True\n",
        "        ,validation_steps=208//13)          \n",
        "        # number of training sample\n",
        "\n",
        "model.save('firstry.h5')"
      ],
      "execution_count": null,
      "outputs": [
        {
          "output_type": "stream",
          "text": [
            "Epoch 1/50\n",
            "133/133 [==============================] - 31s 236ms/step - loss: 0.6858 - accuracy: 0.5859 - val_loss: 0.6543 - val_accuracy: 0.5048\n",
            "Epoch 2/50\n",
            "133/133 [==============================] - 30s 226ms/step - loss: 0.6745 - accuracy: 0.5813 - val_loss: 0.7422 - val_accuracy: 0.4952\n",
            "Epoch 3/50\n",
            "133/133 [==============================] - 30s 223ms/step - loss: 0.6848 - accuracy: 0.5865 - val_loss: 0.8826 - val_accuracy: 0.4231\n",
            "Epoch 4/50\n",
            "133/133 [==============================] - 30s 226ms/step - loss: 0.6626 - accuracy: 0.6090 - val_loss: 3.5927 - val_accuracy: 0.4615\n",
            "Epoch 5/50\n",
            "133/133 [==============================] - 30s 225ms/step - loss: 0.6832 - accuracy: 0.5801 - val_loss: 0.6978 - val_accuracy: 0.5337\n",
            "Epoch 6/50\n",
            "133/133 [==============================] - 30s 227ms/step - loss: 0.6865 - accuracy: 0.5483 - val_loss: 0.6981 - val_accuracy: 0.5000\n",
            "Epoch 7/50\n",
            "133/133 [==============================] - 29s 222ms/step - loss: 0.6979 - accuracy: 0.5240 - val_loss: 0.6862 - val_accuracy: 0.4952\n",
            "Epoch 8/50\n",
            "133/133 [==============================] - 30s 226ms/step - loss: 0.6939 - accuracy: 0.5495 - val_loss: 0.7510 - val_accuracy: 0.5144\n",
            "Epoch 9/50\n",
            "133/133 [==============================] - 29s 221ms/step - loss: 0.6661 - accuracy: 0.5818 - val_loss: 0.7046 - val_accuracy: 0.5769\n",
            "Epoch 10/50\n",
            "133/133 [==============================] - 29s 219ms/step - loss: 0.6751 - accuracy: 0.5830 - val_loss: 0.6277 - val_accuracy: 0.5673\n",
            "Epoch 11/50\n",
            "133/133 [==============================] - 30s 227ms/step - loss: 0.6674 - accuracy: 0.5969 - val_loss: 1.3082 - val_accuracy: 0.4375\n",
            "Epoch 12/50\n",
            "133/133 [==============================] - 29s 222ms/step - loss: 0.6897 - accuracy: 0.5801 - val_loss: 0.7195 - val_accuracy: 0.4760\n",
            "Epoch 13/50\n",
            "133/133 [==============================] - 30s 222ms/step - loss: 0.6896 - accuracy: 0.5645 - val_loss: 1.2187 - val_accuracy: 0.5048\n",
            "Epoch 14/50\n",
            "133/133 [==============================] - 30s 224ms/step - loss: 0.6642 - accuracy: 0.5888 - val_loss: 0.6604 - val_accuracy: 0.5625\n",
            "Epoch 15/50\n",
            "133/133 [==============================] - 30s 222ms/step - loss: 0.6658 - accuracy: 0.6032 - val_loss: 0.7159 - val_accuracy: 0.6106\n",
            "Epoch 16/50\n",
            "133/133 [==============================] - 30s 223ms/step - loss: 0.6936 - accuracy: 0.5940 - val_loss: 1.2967 - val_accuracy: 0.5865\n",
            "Epoch 17/50\n",
            "133/133 [==============================] - 30s 224ms/step - loss: 0.7014 - accuracy: 0.6217 - val_loss: 0.6608 - val_accuracy: 0.4904\n",
            "Epoch 18/50\n",
            "133/133 [==============================] - 29s 220ms/step - loss: 0.6771 - accuracy: 0.5755 - val_loss: 0.8571 - val_accuracy: 0.5000\n",
            "Epoch 19/50\n",
            "133/133 [==============================] - 30s 224ms/step - loss: 0.7295 - accuracy: 0.5882 - val_loss: 0.6920 - val_accuracy: 0.5240\n",
            "Epoch 20/50\n",
            "133/133 [==============================] - 30s 223ms/step - loss: 0.6620 - accuracy: 0.5969 - val_loss: 0.8203 - val_accuracy: 0.4423\n",
            "Epoch 21/50\n",
            "133/133 [==============================] - 30s 223ms/step - loss: 0.6529 - accuracy: 0.6067 - val_loss: 0.6955 - val_accuracy: 0.5240\n",
            "Epoch 22/50\n",
            "133/133 [==============================] - 30s 224ms/step - loss: 0.6584 - accuracy: 0.5980 - val_loss: 0.6454 - val_accuracy: 0.6442\n",
            "Epoch 23/50\n",
            "133/133 [==============================] - 30s 228ms/step - loss: 0.6473 - accuracy: 0.6154 - val_loss: 0.6057 - val_accuracy: 0.6250\n",
            "Epoch 24/50\n",
            "133/133 [==============================] - 30s 229ms/step - loss: 0.6650 - accuracy: 0.6275 - val_loss: 1.0292 - val_accuracy: 0.6683\n",
            "Epoch 25/50\n",
            "133/133 [==============================] - 30s 227ms/step - loss: 0.6828 - accuracy: 0.6032 - val_loss: 1.0129 - val_accuracy: 0.4808\n",
            "Epoch 26/50\n",
            "133/133 [==============================] - 30s 226ms/step - loss: 0.6862 - accuracy: 0.5749 - val_loss: 0.6741 - val_accuracy: 0.5913\n",
            "Epoch 27/50\n",
            "133/133 [==============================] - 30s 226ms/step - loss: 0.6828 - accuracy: 0.5807 - val_loss: 1.2654 - val_accuracy: 0.4327\n",
            "Epoch 28/50\n",
            "133/133 [==============================] - 30s 229ms/step - loss: 0.6896 - accuracy: 0.6165 - val_loss: 0.8218 - val_accuracy: 0.4952\n",
            "Epoch 29/50\n",
            "133/133 [==============================] - 30s 223ms/step - loss: 0.6679 - accuracy: 0.6090 - val_loss: 0.7755 - val_accuracy: 0.5048\n",
            "Epoch 30/50\n",
            "133/133 [==============================] - 30s 222ms/step - loss: 0.6623 - accuracy: 0.6379 - val_loss: 0.6983 - val_accuracy: 0.6106\n",
            "Epoch 31/50\n",
            "133/133 [==============================] - 30s 225ms/step - loss: 0.6599 - accuracy: 0.6223 - val_loss: 0.9017 - val_accuracy: 0.4183\n",
            "Epoch 32/50\n",
            "133/133 [==============================] - 29s 221ms/step - loss: 0.7003 - accuracy: 0.6136 - val_loss: 0.7066 - val_accuracy: 0.6154\n",
            "Epoch 33/50\n",
            "133/133 [==============================] - 30s 224ms/step - loss: 0.6544 - accuracy: 0.6333 - val_loss: 0.7655 - val_accuracy: 0.5000\n",
            "Epoch 34/50\n",
            "133/133 [==============================] - 29s 221ms/step - loss: 0.6598 - accuracy: 0.5975 - val_loss: 2.9973 - val_accuracy: 0.6490\n",
            "Epoch 35/50\n",
            "133/133 [==============================] - 29s 221ms/step - loss: 0.9838 - accuracy: 0.6264 - val_loss: 1.2193 - val_accuracy: 0.4231\n",
            "Epoch 36/50\n",
            "133/133 [==============================] - 29s 217ms/step - loss: 0.6608 - accuracy: 0.6079 - val_loss: 0.6395 - val_accuracy: 0.6587\n",
            "Epoch 37/50\n",
            "133/133 [==============================] - 30s 223ms/step - loss: 0.6845 - accuracy: 0.6084 - val_loss: 0.9349 - val_accuracy: 0.6202\n",
            "Epoch 38/50\n",
            "133/133 [==============================] - 29s 218ms/step - loss: 0.6507 - accuracy: 0.6298 - val_loss: 0.5480 - val_accuracy: 0.5288\n",
            "Epoch 39/50\n",
            "133/133 [==============================] - 30s 225ms/step - loss: 0.6399 - accuracy: 0.6362 - val_loss: 0.6986 - val_accuracy: 0.5817\n",
            "Epoch 40/50\n",
            "133/133 [==============================] - 29s 220ms/step - loss: 0.6707 - accuracy: 0.6298 - val_loss: 0.5916 - val_accuracy: 0.6010\n",
            "Epoch 41/50\n",
            " 35/133 [======>.......................] - ETA: 21s - loss: 0.6656 - accuracy: 0.6484"
          ],
          "name": "stdout"
        }
      ]
    },
    {
      "cell_type": "code",
      "metadata": {
        "id": "yRcJBn_BCED6",
        "colab_type": "code",
        "colab": {
          "base_uri": "https://localhost:8080/",
          "height": 34
        },
        "outputId": "4cf70214-fce2-4232-aed3-9d6731b22437"
      },
      "source": [
        "#print(history.history.keys())\n",
        "test_set.class_indices"
      ],
      "execution_count": null,
      "outputs": [
        {
          "output_type": "execute_result",
          "data": {
            "text/plain": [
              "{'Malignant': 0, 'beningn': 1}"
            ]
          },
          "metadata": {
            "tags": []
          },
          "execution_count": 10
        }
      ]
    },
    {
      "cell_type": "code",
      "metadata": {
        "id": "8pfrLnjUgom1",
        "colab_type": "code",
        "colab": {
          "base_uri": "https://localhost:8080/",
          "height": 663
        },
        "outputId": "d7febace-41c3-49b0-cc75-36f34dae2e0c"
      },
      "source": [
        "model.summary()"
      ],
      "execution_count": null,
      "outputs": [
        {
          "output_type": "stream",
          "text": [
            "Model: \"sequential_1\"\n",
            "_________________________________________________________________\n",
            "Layer (type)                 Output Shape              Param #   \n",
            "=================================================================\n",
            "conv2d_1 (Conv2D)            (None, 148, 148, 32)      896       \n",
            "_________________________________________________________________\n",
            "activation_1 (Activation)    (None, 148, 148, 32)      0         \n",
            "_________________________________________________________________\n",
            "max_pooling2d_1 (MaxPooling2 (None, 74, 74, 32)        0         \n",
            "_________________________________________________________________\n",
            "conv2d_2 (Conv2D)            (None, 72, 72, 32)        9248      \n",
            "_________________________________________________________________\n",
            "activation_2 (Activation)    (None, 72, 72, 32)        0         \n",
            "_________________________________________________________________\n",
            "max_pooling2d_2 (MaxPooling2 (None, 36, 36, 32)        0         \n",
            "_________________________________________________________________\n",
            "conv2d_3 (Conv2D)            (None, 34, 34, 64)        18496     \n",
            "_________________________________________________________________\n",
            "activation_3 (Activation)    (None, 34, 34, 64)        0         \n",
            "_________________________________________________________________\n",
            "max_pooling2d_3 (MaxPooling2 (None, 17, 17, 64)        0         \n",
            "_________________________________________________________________\n",
            "flatten_1 (Flatten)          (None, 18496)             0         \n",
            "_________________________________________________________________\n",
            "dense_1 (Dense)              (None, 64)                1183808   \n",
            "_________________________________________________________________\n",
            "activation_4 (Activation)    (None, 64)                0         \n",
            "_________________________________________________________________\n",
            "dropout_1 (Dropout)          (None, 64)                0         \n",
            "_________________________________________________________________\n",
            "dense_2 (Dense)              (None, 1)                 65        \n",
            "_________________________________________________________________\n",
            "activation_5 (Activation)    (None, 1)                 0         \n",
            "=================================================================\n",
            "Total params: 1,212,513\n",
            "Trainable params: 1,212,513\n",
            "Non-trainable params: 0\n",
            "_________________________________________________________________\n"
          ],
          "name": "stdout"
        }
      ]
    },
    {
      "cell_type": "code",
      "metadata": {
        "id": "Ofd8sRLJAiyw",
        "colab_type": "code",
        "colab": {}
      },
      "source": [
        "model.save_weights('first_try.h5')"
      ],
      "execution_count": null,
      "outputs": []
    },
    {
      "cell_type": "code",
      "metadata": {
        "id": "OYzvzggxjndn",
        "colab_type": "code",
        "colab": {
          "base_uri": "https://localhost:8080/",
          "height": 34
        },
        "outputId": "58336f69-918b-496c-8bda-e19829e686b4"
      },
      "source": [
        "training_set.class_indices"
      ],
      "execution_count": null,
      "outputs": [
        {
          "output_type": "execute_result",
          "data": {
            "text/plain": [
              "{'Malignant': 0, 'beningn': 1}"
            ]
          },
          "metadata": {
            "tags": []
          },
          "execution_count": 66
        }
      ]
    },
    {
      "cell_type": "code",
      "metadata": {
        "id": "MUEqnjEkAyDu",
        "colab_type": "code",
        "colab": {
          "base_uri": "https://localhost:8080/",
          "height": 295
        },
        "outputId": "afe37032-af2a-4487-8538-f9db8390f559"
      },
      "source": [
        "import matplotlib.pyplot as plt\n",
        "\n",
        "# summarize history for accuracy\n",
        "plt.plot(history.history['accuracy'])\n",
        "plt.plot(history.history['val_accuracy'])\n",
        "plt.title('model accuracy')\n",
        "plt.ylabel('accuracy')\n",
        "plt.xlabel('epoch')\n",
        "plt.legend(['train', 'test'], loc='upper left')\n",
        "plt.show()"
      ],
      "execution_count": null,
      "outputs": [
        {
          "output_type": "display_data",
          "data": {
            "image/png": "[encoded data removed]",
            "text/plain": [
              "<Figure size 432x288 with 1 Axes>"
            ]
          },
          "metadata": {
            "tags": [],
            "needs_background": "light"
          }
        }
      ]
    },
    {
      "cell_type": "code",
      "metadata": {
        "id": "6p9b7juDA5RJ",
        "colab_type": "code",
        "colab": {
          "base_uri": "https://localhost:8080/",
          "height": 295
        },
        "outputId": "32f60752-edbb-4818-d034-5d2f68182cf1"
      },
      "source": [
        "# summarize history for loss\n",
        "plt.plot(history.history['loss'])\n",
        "plt.plot(history.history['val_loss'])\n",
        "plt.title('model loss')\n",
        "plt.ylabel('loss')\n",
        "plt.xlabel('epoch')\n",
        "plt.legend(['train', 'test'], loc='upper left')\n",
        "plt.show()"
      ],
      "execution_count": null,
      "outputs": [
        {
          "output_type": "display_data",
          "data": {
            "image/png": "[encoded data removed]",
            "text/plain": [
              "<Figure size 432x288 with 1 Axes>"
            ]
          },
          "metadata": {
            "tags": [],
            "needs_background": "light"
          }
        }
      ]
    },
    {
      "cell_type": "code",
      "metadata": {
        "id": "Y1zvx61qBB1M",
        "colab_type": "code",
        "colab": {
          "base_uri": "https://localhost:8080/",
          "height": 34
        },
        "outputId": "4767fc56-5360-4c0f-b03c-b00de26c6176"
      },
      "source": [
        "#PART 3 - Prediction\n",
        "\n",
        "import numpy as np\n",
        "from keras.preprocessing import image\n",
        "test_image = image.load_img(\n",
        "'//Dataset/Skin_cancer/testing/beningn/ISIC_0033836.jpg',\n",
        "        target_size = (150,150))\n",
        "test_image = image.img_to_array(test_image) #making it 3D array as input layer is 3D     \n",
        "test_image = np.expand_dims(test_image,axis=0) #adding bias variable\n",
        "\n",
        "%timeit  \n",
        "result = model.predict(test_set)\n",
        "\n",
        "training_set.class_indices  #to check the value of outplut class assigned\n",
        "\n",
        "if result[0] > 0.5:\n",
        "    #prediction = \"Benign\"\n",
        "    print(\"Looks like Benign !\")\n",
        "else:\n",
        "  print(\"Looks like Malignant \")\n",
        "\n"
      ],
      "execution_count": null,
      "outputs": [
        {
          "output_type": "stream",
          "text": [
            "Looks like Malignant \n"
          ],
          "name": "stdout"
        }
      ]
    },
    {
      "cell_type": "code",
      "metadata": {
        "id": "_6jUlasYBX9X",
        "colab_type": "code",
        "colab": {}
      },
      "source": [
        "result"
      ],
      "execution_count": null,
      "outputs": []
    },
    {
      "cell_type": "code",
      "metadata": {
        "id": "JDmBEhffAQLS",
        "colab_type": "code",
        "colab": {}
      },
      "source": [
        "#LeNet\n",
        "\n",
        "import keras \n",
        "from keras.models import Sequential\n",
        "from keras.layers import Conv2D\n",
        "from keras.layers import MaxPooling2D\n",
        "from keras.layers import Flatten\n",
        "from keras.layers import Dense\n",
        "\n",
        "#import dropout class if needed\n",
        "from keras.layers import Dropout\n",
        "\n",
        "from keras import regularizers\n",
        "\n",
        "model = Sequential()\n",
        "#Layer 1\n",
        "#Conv Layer 1\n",
        "model.add(Conv2D(filters = 6, \n",
        "                 kernel_size = 5, \n",
        "                 strides = 1, \n",
        "                 activation = 'relu', \n",
        "                 input_shape = (32,32,3)))\n",
        "#Pooling layer 1\n",
        "model.add(MaxPooling2D(pool_size = 2, strides = 2))\n",
        "#Layer 2\n",
        "#Conv Layer 2\n",
        "model.add(Conv2D(filters = 16, \n",
        "                 kernel_size = 5,\n",
        "                 strides = 1,\n",
        "                 activation = 'relu',\n",
        "                 input_shape = (14,14,6)))\n",
        "#Pooling Layer 2\n",
        "model.add(MaxPooling2D(pool_size = 2, strides = 2))\n",
        "#Flatten\n",
        "model.add(Flatten())\n",
        "#Layer 3\n",
        "#Fully connected layer 1\n",
        "model.add(Dense(units=128,activation='relu'))\n",
        "#model.add(Dropout(rate=0.2))\n",
        "#Layer 4\n",
        "#Fully connected layer 2\n",
        "model.add(Dense(units=64,activation='relu'\n",
        "                     ))\n",
        "#model.add(Dropout(rate=0.2))\n",
        "\n",
        "#layer 5\n",
        "#Fully connected layer 3\n",
        "model.add(Dense(units=64,activation='relu'\n",
        "                     ))\n",
        "#model.add(Dropout(rate=0.2))\n",
        "\n",
        "#layer 6\n",
        "#Fully connected layer 4\n",
        "model.add(Dense(units=64,activation='relu'\n",
        "                    ))\n",
        "#model.add(Dropout(rate=0.2))\n",
        "\n",
        "#layer 7\n",
        "#Fully connected layer 4\n",
        "model.add(Dense(units=64,activation='relu'\n",
        "                    ))\n",
        "#model.add(Dropout(rate=0.2))\n",
        "\n",
        "#layer 8\n",
        "#Fully connected layer 4\n",
        "model.add(Dense(units=64,activation='relu'\n",
        "                    ))\n",
        "#model.add(Dropout(rate=0.2))\n",
        "\n",
        "#layer 9\n",
        "#Fully connected layer 4\n",
        "model.add(Dense(units=64,activation='relu'\n",
        "                    ))\n",
        "#model.add(Dropout(rate=0.2))\n",
        "\n",
        "#Layer 10\n",
        "#Output Layer\n",
        "model.add(Dense(units = 2, activation = 'softmax'))\n",
        "model.compile(optimizer = 'adam', loss = 'categorical_crossentropy', metrics = ['accuracy'])\n"
      ],
      "execution_count": null,
      "outputs": []
    },
    {
      "cell_type": "code",
      "metadata": {
        "id": "C9MhVadArutr",
        "colab_type": "code",
        "colab": {
          "base_uri": "https://localhost:8080/",
          "height": 51
        },
        "outputId": "639c0f60-859c-4345-87c8-e439ae01ab98"
      },
      "source": [
        "from keras.preprocessing.image import ImageDataGenerator\n",
        "\n",
        "#Image Augmentation\n",
        "train_datagen = ImageDataGenerator(\n",
        "        rescale=1./255, #rescaling pixel value bw 0 and 1\n",
        "        shear_range=0.2,\n",
        "        zoom_range=0.2,\n",
        "        horizontal_flip=True)\n",
        "\n",
        "#Just Feature scaling\n",
        "test_datagen = ImageDataGenerator(rescale=1./255)\n",
        "\n",
        "training_set = train_datagen.flow_from_directory(\n",
        "       '/Dataset/Skin_cancer/training',\n",
        "        target_size=(32, 32),\n",
        "        batch_size=32,\n",
        "        class_mode='categorical',\n",
        "        shuffle='True')\n",
        "\n",
        "test_set = test_datagen.flow_from_directory(\n",
        "        '/Dataset/Skin_cancer/testing',\n",
        "        target_size=(32, 32),\n",
        "        batch_size=32,\n",
        "        class_mode='categorical',\n",
        "        shuffle='True')"
      ],
      "execution_count": null,
      "outputs": [
        {
          "output_type": "stream",
          "text": [
            "Found 440 images belonging to 2 classes.\n",
            "Found 108 images belonging to 2 classes.\n"
          ],
          "name": "stdout"
        }
      ]
    },
    {
      "cell_type": "code",
      "metadata": {
        "id": "VwpypE5YsS_M",
        "colab_type": "code",
        "colab": {
          "base_uri": "https://localhost:8080/",
          "height": 867
        },
        "outputId": "dc528430-e774-4612-f282-f21a819696f8"
      },
      "source": [
        "history = model.fit_generator(\n",
        "        training_set,\n",
        "        steps_per_epoch=50,   #number of input (image)\n",
        "        epochs=25,\n",
        "        validation_data=test_set,\n",
        "        validation_steps=10)          # number of training sample"
      ],
      "execution_count": null,
      "outputs": [
        {
          "output_type": "stream",
          "text": [
            "Epoch 1/25\n",
            "50/50 [==============================] - 31s 611ms/step - loss: 0.6929 - accuracy: 0.5210 - val_loss: 0.6776 - val_accuracy: 0.5179\n",
            "Epoch 2/25\n",
            "50/50 [==============================] - 29s 575ms/step - loss: 0.6908 - accuracy: 0.5317 - val_loss: 0.6977 - val_accuracy: 0.5077\n",
            "Epoch 3/25\n",
            "50/50 [==============================] - 25s 504ms/step - loss: 0.6910 - accuracy: 0.5292 - val_loss: 0.6928 - val_accuracy: 0.5179\n",
            "Epoch 4/25\n",
            "50/50 [==============================] - 29s 579ms/step - loss: 0.6921 - accuracy: 0.5122 - val_loss: 0.6894 - val_accuracy: 0.4577\n",
            "Epoch 5/25\n",
            "50/50 [==============================] - 25s 497ms/step - loss: 0.6890 - accuracy: 0.5412 - val_loss: 0.7095 - val_accuracy: 0.4214\n",
            "Epoch 6/25\n",
            "50/50 [==============================] - 29s 587ms/step - loss: 0.6920 - accuracy: 0.5057 - val_loss: 0.7647 - val_accuracy: 0.4538\n",
            "Epoch 7/25\n",
            "50/50 [==============================] - 28s 564ms/step - loss: 0.6840 - accuracy: 0.5596 - val_loss: 0.7179 - val_accuracy: 0.4429\n",
            "Epoch 8/25\n",
            "50/50 [==============================] - 26s 515ms/step - loss: 0.6895 - accuracy: 0.5281 - val_loss: 0.8344 - val_accuracy: 0.4692\n",
            "Epoch 9/25\n",
            "50/50 [==============================] - 28s 568ms/step - loss: 0.6796 - accuracy: 0.5825 - val_loss: 0.8587 - val_accuracy: 0.4929\n",
            "Epoch 10/25\n",
            "50/50 [==============================] - 25s 502ms/step - loss: 0.6795 - accuracy: 0.5676 - val_loss: 0.9134 - val_accuracy: 0.4692\n",
            "Epoch 11/25\n",
            "50/50 [==============================] - 29s 570ms/step - loss: 0.6718 - accuracy: 0.5876 - val_loss: 0.7736 - val_accuracy: 0.4750\n",
            "Epoch 12/25\n",
            "50/50 [==============================] - 25s 494ms/step - loss: 0.6684 - accuracy: 0.5938 - val_loss: 0.7084 - val_accuracy: 0.4846\n",
            "Epoch 13/25\n",
            "50/50 [==============================] - 29s 579ms/step - loss: 0.6752 - accuracy: 0.5780 - val_loss: 0.7952 - val_accuracy: 0.4464\n",
            "Epoch 14/25\n",
            "50/50 [==============================] - 27s 543ms/step - loss: 0.6619 - accuracy: 0.5957 - val_loss: 1.1270 - val_accuracy: 0.4654\n",
            "Epoch 15/25\n",
            "50/50 [==============================] - 25s 504ms/step - loss: 0.6671 - accuracy: 0.6001 - val_loss: 0.6962 - val_accuracy: 0.4786\n",
            "Epoch 16/25\n",
            "50/50 [==============================] - 28s 562ms/step - loss: 0.6624 - accuracy: 0.5920 - val_loss: 0.7288 - val_accuracy: 0.4692\n",
            "Epoch 17/25\n",
            "50/50 [==============================] - 24s 483ms/step - loss: 0.6409 - accuracy: 0.6263 - val_loss: 0.9215 - val_accuracy: 0.3750\n",
            "Epoch 18/25\n",
            "50/50 [==============================] - 29s 586ms/step - loss: 0.6402 - accuracy: 0.6193 - val_loss: 0.7786 - val_accuracy: 0.4692\n",
            "Epoch 19/25\n",
            "50/50 [==============================] - 25s 499ms/step - loss: 0.6351 - accuracy: 0.6301 - val_loss: 1.1299 - val_accuracy: 0.4000\n",
            "Epoch 20/25\n",
            "50/50 [==============================] - 29s 582ms/step - loss: 0.6358 - accuracy: 0.6180 - val_loss: 1.0295 - val_accuracy: 0.5115\n",
            "Epoch 21/25\n",
            "50/50 [==============================] - 28s 555ms/step - loss: 0.6154 - accuracy: 0.6301 - val_loss: 0.7632 - val_accuracy: 0.4536\n",
            "Epoch 22/25\n",
            "50/50 [==============================] - 25s 503ms/step - loss: 0.6004 - accuracy: 0.6652 - val_loss: 1.0451 - val_accuracy: 0.4538\n",
            "Epoch 23/25\n",
            "50/50 [==============================] - 28s 567ms/step - loss: 0.6139 - accuracy: 0.6402 - val_loss: 1.0145 - val_accuracy: 0.4857\n",
            "Epoch 24/25\n",
            "50/50 [==============================] - 25s 495ms/step - loss: 0.5917 - accuracy: 0.6709 - val_loss: 1.5055 - val_accuracy: 0.4154\n",
            "Epoch 25/25\n",
            "50/50 [==============================] - 29s 574ms/step - loss: 0.5693 - accuracy: 0.6786 - val_loss: 0.8823 - val_accuracy: 0.4536\n"
          ],
          "name": "stdout"
        }
      ]
    },
    {
      "cell_type": "code",
      "metadata": {
        "id": "LuiU8sAbsW8x",
        "colab_type": "code",
        "colab": {
          "base_uri": "https://localhost:8080/",
          "height": 34
        },
        "outputId": "41fdbf9e-3742-4a6e-d13a-28a3f0fe3f61"
      },
      "source": [
        "print(history.history.keys())"
      ],
      "execution_count": null,
      "outputs": [
        {
          "output_type": "stream",
          "text": [
            "dict_keys(['val_loss', 'val_accuracy', 'loss', 'accuracy'])\n"
          ],
          "name": "stdout"
        }
      ]
    },
    {
      "cell_type": "code",
      "metadata": {
        "id": "J6BAYA_8EshH",
        "colab_type": "code",
        "colab": {
          "base_uri": "https://localhost:8080/",
          "height": 295
        },
        "outputId": "745250cd-3db7-42ba-fc8f-6335a46ae2e5"
      },
      "source": [
        "import matplotlib.pyplot as plt\n",
        "\n",
        "# summarize history for accuracy\n",
        "plt.plot(history.history['accuracy'])\n",
        "plt.plot(history.history['val_accuracy'])\n",
        "plt.title('model accuracy')\n",
        "plt.ylabel('accuracy')\n",
        "plt.xlabel('epoch')\n",
        "plt.legend(['train', 'test'], loc='upper left')\n",
        "plt.show()"
      ],
      "execution_count": null,
      "outputs": [
        {
          "output_type": "display_data",
          "data": {
            "image/png": "[encoded data removed]",
            "text/plain": [
              "<Figure size 432x288 with 1 Axes>"
            ]
          },
          "metadata": {
            "tags": [],
            "needs_background": "light"
          }
        }
      ]
    },
    {
      "cell_type": "code",
      "metadata": {
        "id": "A0u0M7PQEwfI",
        "colab_type": "code",
        "colab": {
          "base_uri": "https://localhost:8080/",
          "height": 295
        },
        "outputId": "e0adaeff-1648-4296-8f9d-41aaece5b611"
      },
      "source": [
        "# summarize history for loss\n",
        "plt.plot(history.history['loss'])\n",
        "plt.plot(history.history['val_loss'])\n",
        "plt.title('model loss')\n",
        "plt.ylabel('loss')\n",
        "plt.xlabel('epoch')\n",
        "plt.legend(['train', 'test'], loc='upper left')\n",
        "plt.show()"
      ],
      "execution_count": null,
      "outputs": [
        {
          "output_type": "display_data",
          "data": {
            "image/png": "[encoded data removed]",
            "text/plain": [
              "<Figure size 432x288 with 1 Axes>"
            ]
          },
          "metadata": {
            "tags": [],
            "needs_background": "light"
          }
        }
      ]
    },
    {
      "cell_type": "code",
      "metadata": {
        "id": "rIYq4SayJtNz",
        "colab_type": "code",
        "colab": {}
      },
      "source": [
        "import numpy as np\n",
        "from keras.preprocessing import image\n",
        "test_image = image.load_img(\n",
        "'/Dataset/Skin_cancer/testing/Malignant/ISIC_0000142.jpg',\n",
        "        target_size = (32,32))\n",
        "test_image = image.img_to_array(test_image) #making it 3D array as input layer is 3D     \n",
        "test_image = np.expand_dims(test_image,axis=0) #adding bias variable\n",
        "\n",
        "result = model.predict(test_image)"
      ],
      "execution_count": null,
      "outputs": []
    },
    {
      "cell_type": "code",
      "metadata": {
        "id": "dE0ePNO0fCAM",
        "colab_type": "code",
        "colab": {
          "base_uri": "https://localhost:8080/",
          "height": 34
        },
        "outputId": "f43014b0-7846-4dae-94ff-50796d9f873c"
      },
      "source": [
        "training_set.class_indices\n",
        "\n",
        "result"
      ],
      "execution_count": null,
      "outputs": [
        {
          "output_type": "execute_result",
          "data": {
            "text/plain": [
              "array([[0., 1.]], dtype=float32)"
            ]
          },
          "metadata": {
            "tags": []
          },
          "execution_count": 13
        }
      ]
    },
    {
      "cell_type": "code",
      "metadata": {
        "id": "Zy89BqtPfHBN",
        "colab_type": "code",
        "colab": {}
      },
      "source": [
        ""
      ],
      "execution_count": null,
      "outputs": []
    },
    {
      "cell_type": "code",
      "metadata": {
        "id": "7B3zetfwfT0L",
        "colab_type": "code",
        "colab": {}
      },
      "source": [
        ""
      ],
      "execution_count": null,
      "outputs": []
    },
    {
      "cell_type": "code",
      "metadata": {
        "id": "mOgSPJsI1ze_",
        "colab_type": "code",
        "colab": {}
      },
      "source": [
        ""
      ],
      "execution_count": null,
      "outputs": []
    }
  ]
}