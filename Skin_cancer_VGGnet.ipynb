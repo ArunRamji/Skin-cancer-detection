{
  "nbformat": 4,
  "nbformat_minor": 0,
  "metadata": {
    "colab": {
      "name": "Skin cancer VGGnet",
      "provenance": [],
      "collapsed_sections": [],
      "mount_file_id": "1diCvCeySUJIVY3FTS5R12yCPjSjLawwd",
      "authorship_tag": "ABX9TyOrswFRxfXDycCO3Ij38LIb",
      "include_colab_link": true
    },
    "kernelspec": {
      "name": "python3",
      "display_name": "Python 3"
    },
    "accelerator": "GPU"
  },
  "cells": [
    {
      "cell_type": "markdown",
      "metadata": {
        "id": "view-in-github",
        "colab_type": "text"
      },
      "source": [
        "<a href=\"https://colab.research.google.com/github/ArunRamji/Skin-cancer-detection/blob/master/Skin_cancer_VGGnet.ipynb\" target=\"_parent\"><img src=\"https://colab.research.google.com/assets/colab-badge.svg\" alt=\"Open In Colab\"/></a>"
      ]
    },
    {
      "cell_type": "code",
      "metadata": {
        "id": "JP2AkpK33cYO",
        "colab_type": "code",
        "colab": {}
      },
      "source": [
        "#from google.colab import files\n",
        "#uploaded = files.upload()\n",
        "\n",
        "#!unzip /content/drive/My Drive/Datasets/Skin_cancer.zip -d /Dataset\n",
        "\n",
        "!unzip -uq \"/content/drive/My Drive/Datasets/Skin_cancer.zip\" -d \"/Dataset\"\n"
      ],
      "execution_count": 1,
      "outputs": []
    },
    {
      "cell_type": "code",
      "metadata": {
        "id": "yUZUjYMTBksk",
        "colab_type": "code",
        "colab": {
          "base_uri": "https://localhost:8080/",
          "height": 37
        },
        "outputId": "bae1ea66-c919-40e6-a44a-fcf4b1a787bb"
      },
      "source": [
        "#to check gpu connected\n",
        "import tensorflow as tf \n",
        "tf.test.gpu_device_name()"
      ],
      "execution_count": 2,
      "outputs": [
        {
          "output_type": "execute_result",
          "data": {
            "application/vnd.google.colaboratory.intrinsic": {
              "type": "string"
            },
            "text/plain": [
              "'/device:GPU:0'"
            ]
          },
          "metadata": {
            "tags": []
          },
          "execution_count": 2
        }
      ]
    },
    {
      "cell_type": "code",
      "metadata": {
        "id": "Y6bzIAuo2ENr",
        "colab_type": "code",
        "colab": {
          "base_uri": "https://localhost:8080/",
          "height": 476
        },
        "outputId": "60172f2d-b140-44bf-93d7-e5f153e6db84"
      },
      "source": [
        "from tensorflow.python.client import device_lib\n",
        "device_lib.list_local_devices()"
      ],
      "execution_count": null,
      "outputs": [
        {
          "output_type": "execute_result",
          "data": {
            "text/plain": [
              "[name: \"/device:CPU:0\"\n",
              " device_type: \"CPU\"\n",
              " memory_limit: 268435456\n",
              " locality {\n",
              " }\n",
              " incarnation: 6602401913119276305, name: \"/device:XLA_CPU:0\"\n",
              " device_type: \"XLA_CPU\"\n",
              " memory_limit: 17179869184\n",
              " locality {\n",
              " }\n",
              " incarnation: 853497195116501803\n",
              " physical_device_desc: \"device: XLA_CPU device\", name: \"/device:XLA_GPU:0\"\n",
              " device_type: \"XLA_GPU\"\n",
              " memory_limit: 17179869184\n",
              " locality {\n",
              " }\n",
              " incarnation: 15285217857849395136\n",
              " physical_device_desc: \"device: XLA_GPU device\", name: \"/device:GPU:0\"\n",
              " device_type: \"GPU\"\n",
              " memory_limit: 11150726272\n",
              " locality {\n",
              "   bus_id: 1\n",
              "   links {\n",
              "   }\n",
              " }\n",
              " incarnation: 6181780381073538773\n",
              " physical_device_desc: \"device: 0, name: Tesla K80, pci bus id: 0000:00:04.0, compute capability: 3.7\"]"
            ]
          },
          "metadata": {
            "tags": []
          },
          "execution_count": 7
        }
      ]
    },
    {
      "cell_type": "code",
      "metadata": {
        "id": "soY85RpY3z3e",
        "colab_type": "code",
        "colab": {
          "base_uri": "https://localhost:8080/",
          "height": 34
        },
        "outputId": "9666d45d-e5ce-4d44-8ef6-f96601b72e1e"
      },
      "source": [
        "#Model1 - VGG\n",
        "\n",
        "import keras \n",
        "from keras.models import Sequential\n",
        "from keras.layers import Conv2D\n",
        "from keras.layers import MaxPool2D\n",
        "from keras.layers import Flatten\n",
        "from keras.layers import Dense\n",
        "\n",
        "#import dropout class if needed\n",
        "from keras.layers import Dropout\n",
        "\n",
        "from keras import regularizers\n",
        "\n",
        "model = Sequential()\n",
        "model.add(Conv2D(input_shape=(224,224,3),filters=64,kernel_size=(3,3),padding=\"same\", activation=\"relu\",strides=1))\n",
        "model.add(Conv2D(filters=64,kernel_size=(3,3),padding=\"same\", activation=\"relu\",strides=1))\n",
        "model.add(MaxPool2D(pool_size=(2,2),strides=(2,2)))\n",
        "model.add(Conv2D(filters=128, kernel_size=(3,3), padding=\"same\", activation=\"relu\"))\n",
        "model.add(Conv2D(filters=128, kernel_size=(3,3), padding=\"same\", activation=\"relu\"))\n",
        "model.add(MaxPool2D(pool_size=(2,2),strides=(2,2)))\n",
        "model.add(Conv2D(filters=256, kernel_size=(3,3), padding=\"same\", activation=\"relu\"))\n",
        "model.add(Conv2D(filters=256, kernel_size=(3,3), padding=\"same\", activation=\"relu\"))\n",
        "model.add(Conv2D(filters=256, kernel_size=(3,3), padding=\"same\", activation=\"relu\"))\n",
        "model.add(MaxPool2D(pool_size=(2,2),strides=(2,2)))\n",
        "model.add(Conv2D(filters=512, kernel_size=(3,3), padding=\"same\", activation=\"relu\"))\n",
        "model.add(Conv2D(filters=512, kernel_size=(3,3), padding=\"same\", activation=\"relu\"))\n",
        "model.add(Conv2D(filters=512, kernel_size=(3,3), padding=\"same\", activation=\"relu\"))\n",
        "model.add(MaxPool2D(pool_size=(2,2),strides=(2,2)))\n",
        "model.add(Conv2D(filters=512, kernel_size=(3,3), padding=\"same\", activation=\"relu\"))\n",
        "model.add(Conv2D(filters=512, kernel_size=(3,3), padding=\"same\", activation=\"relu\"))\n",
        "model.add(Conv2D(filters=512, kernel_size=(3,3), padding=\"same\", activation=\"relu\"))\n",
        "model.add(MaxPool2D(pool_size=(2,2),strides=(2,2)))\n",
        "\n",
        "#Flatten\n",
        "model.add(Flatten())\n",
        "#Layer 3\n",
        "#Fully connected layer 1\n",
        "model.add(Dense(units=4096,activation='relu'))\n",
        "                     #,kernel_regularizer=regularizers.l2(0.01)))\n",
        "model.add(Dropout(rate=0.5))\n",
        "#Layer 4\n",
        "#Fully connected layer 2\n",
        "model.add(Dense(units=4096,activation='relu'))\n",
        "                     #,kernel_regularizer=regularizers.l2(0.01)))\n",
        "model.add(Dropout(rate=0.5))\n",
        "#Layer 5\n",
        "#Output Layer\n",
        "model.add(Dense(units = 1, activation = 'sigmoid'))\n",
        "\n",
        "#compile\n",
        "model.compile(optimizer = 'adam', loss = 'binary_crossentropy', metrics = ['accuracy'])\n"
      ],
      "execution_count": null,
      "outputs": [
        {
          "output_type": "stream",
          "text": [
            "Using TensorFlow backend.\n"
          ],
          "name": "stderr"
        }
      ]
    },
    {
      "cell_type": "code",
      "metadata": {
        "id": "VeDMChPzaW7F",
        "colab_type": "code",
        "colab": {
          "base_uri": "https://localhost:8080/",
          "height": 34
        },
        "outputId": "e63c3772-98a6-45b6-8daf-78c736895692"
      },
      "source": [
        "#Model 2 - Sinmple CNN\n",
        "\n",
        "from keras.models import Sequential\n",
        "from keras.layers import Conv2D, MaxPooling2D\n",
        "from keras.layers import Activation, Dropout, Flatten, Dense\n",
        "\n",
        "model = Sequential()\n",
        "model.add(Conv2D(32, (3, 3), input_shape=(150, 150,3)))\n",
        "model.add(Activation('relu'))\n",
        "model.add(MaxPooling2D(pool_size=(2, 2)))\n",
        "\n",
        "model.add(Conv2D(32, (3, 3)))\n",
        "model.add(Activation('relu'))\n",
        "model.add(MaxPooling2D(pool_size=(2, 2)))\n",
        "\n",
        "model.add(Conv2D(64, (3, 3)))\n",
        "model.add(Activation('relu'))\n",
        "model.add(MaxPooling2D(pool_size=(2, 2)))\n",
        "\n",
        "model.add(Flatten())  # this converts our 3D feature maps to 1D feature vectors\n",
        "model.add(Dense(64))\n",
        "model.add(Activation('relu'))\n",
        "model.add(Dropout(0.5))\n",
        "model.add(Dense(units=1))\n",
        "model.add(Activation('sigmoid'))\n",
        "\n",
        "model.compile(loss='binary_crossentropy',\n",
        "              optimizer='rmsprop',\n",
        "              metrics=['accuracy'])\n"
      ],
      "execution_count": 3,
      "outputs": [
        {
          "output_type": "stream",
          "text": [
            "Using TensorFlow backend.\n"
          ],
          "name": "stderr"
        }
      ]
    },
    {
      "cell_type": "code",
      "metadata": {
        "id": "Diwbk_iN_pw7",
        "colab_type": "code",
        "colab": {
          "base_uri": "https://localhost:8080/",
          "height": 51
        },
        "outputId": "35bb3944-874c-4d68-e9a2-0065eadb55d9"
      },
      "source": [
        "from keras.preprocessing.image import ImageDataGenerator,array_to_img, img_to_array, load_img\n",
        "\n",
        "#Image Augmentation\n",
        "train_datagen = ImageDataGenerator(\n",
        "        rescale=1./255, #rescaling pixel value bw 0 and 1\n",
        "        shear_range=0.2,\n",
        "        zoom_range=0.2,\n",
        "        horizontal_flip=True,\n",
        "        vertical_flip=True,\n",
        "        rotation_range=40,\n",
        "        width_shift_range=0.2,\n",
        "        height_shift_range=0.2,\n",
        "        fill_mode='nearest'\n",
        "        )\n",
        "\n",
        "#Just Feature scaling\n",
        "test_datagen = ImageDataGenerator(rescale=1./255)\n",
        "\n",
        "training_set = train_datagen.flow_from_directory(\n",
        "       '/Dataset/Skin_cancer/training',\n",
        "        target_size=(150, 150),\n",
        "        batch_size=13,\n",
        "        class_mode='binary')\n",
        "\n",
        "test_set = test_datagen.flow_from_directory(\n",
        "        '/Dataset/Skin_cancer/testing',\n",
        "        target_size=(150, 150),\n",
        "        batch_size=13,\n",
        "        class_mode='binary')"
      ],
      "execution_count": 4,
      "outputs": [
        {
          "output_type": "stream",
          "text": [
            "Found 1729 images belonging to 2 classes.\n",
            "Found 208 images belonging to 2 classes.\n"
          ],
          "name": "stdout"
        }
      ]
    },
    {
      "cell_type": "code",
      "metadata": {
        "id": "_K5px2QlVn5U",
        "colab_type": "code",
        "colab": {}
      },
      "source": [
        "#sample of how would augmentation look a like\n",
        "\n",
        "img = load_img('/Dataset/Skin_cancer/training/Malignant/ISIC_0000013.jpg')  # this is a PIL image\n",
        "x = img_to_array(img)  # this is a Numpy array with shape (3, 150, 150)\n",
        "x = x.reshape((1,) + x.shape)  # this is a Numpy array with shape (1, 3, 150, 150)\n",
        "\n",
        "# the .flow() command below generates batches of randomly transformed images\n",
        "# and saves the results to the `preview/` directory\n",
        "i = 0\n",
        "for batch in train_datagen.flow(x, batch_size=1,\n",
        "                          save_to_dir='/Dataset/', save_prefix='skin', save_format='jpeg'):\n",
        "    i += 1\n",
        "    if i > 20:\n",
        "        break  # otherwise the generator would loop indefinitely"
      ],
      "execution_count": 5,
      "outputs": []
    },
    {
      "cell_type": "code",
      "metadata": {
        "id": "nC1nUIZWAJEj",
        "colab_type": "code",
        "colab": {
          "base_uri": "https://localhost:8080/",
          "height": 1000
        },
        "outputId": "6c304a51-0143-4b19-c452-f4db846b96ec"
      },
      "source": [
        "history = model.fit_generator(\n",
        "        training_set,\n",
        "        steps_per_epoch=1729//13,   #number of input (image)\n",
        "        epochs=50,\n",
        "        validation_data=test_set\n",
        "        ,shuffle=True\n",
        "        ,validation_steps=208//13)          \n",
        "        # number of training sample\n",
        "\n",
        "model.save('firstry.h5')"
      ],
      "execution_count": 6,
      "outputs": [
        {
          "output_type": "stream",
          "text": [
            "Epoch 1/50\n",
            "133/133 [==============================] - 34s 258ms/step - loss: 0.7235 - accuracy: 0.4905 - val_loss: 0.6805 - val_accuracy: 0.5000\n",
            "Epoch 2/50\n",
            "133/133 [==============================] - 31s 231ms/step - loss: 0.6979 - accuracy: 0.5205 - val_loss: 0.6795 - val_accuracy: 0.4952\n",
            "Epoch 3/50\n",
            "133/133 [==============================] - 30s 229ms/step - loss: 0.7023 - accuracy: 0.5448 - val_loss: 0.6985 - val_accuracy: 0.4808\n",
            "Epoch 4/50\n",
            "133/133 [==============================] - 31s 231ms/step - loss: 0.6927 - accuracy: 0.5564 - val_loss: 0.7271 - val_accuracy: 0.4904\n",
            "Epoch 5/50\n",
            "133/133 [==============================] - 31s 229ms/step - loss: 0.6987 - accuracy: 0.5512 - val_loss: 0.7039 - val_accuracy: 0.4375\n",
            "Epoch 6/50\n",
            "133/133 [==============================] - 30s 227ms/step - loss: 0.6839 - accuracy: 0.5732 - val_loss: 0.6776 - val_accuracy: 0.4712\n",
            "Epoch 7/50\n",
            "133/133 [==============================] - 31s 232ms/step - loss: 0.6857 - accuracy: 0.5795 - val_loss: 1.1756 - val_accuracy: 0.4808\n",
            "Epoch 8/50\n",
            "133/133 [==============================] - 30s 228ms/step - loss: 0.6896 - accuracy: 0.5737 - val_loss: 0.7906 - val_accuracy: 0.4615\n",
            "Epoch 9/50\n",
            "133/133 [==============================] - 30s 227ms/step - loss: 0.6785 - accuracy: 0.5587 - val_loss: 1.1196 - val_accuracy: 0.4663\n",
            "Epoch 10/50\n",
            "133/133 [==============================] - 31s 231ms/step - loss: 0.6990 - accuracy: 0.5720 - val_loss: 0.7389 - val_accuracy: 0.4712\n",
            "Epoch 11/50\n",
            "133/133 [==============================] - 31s 230ms/step - loss: 0.6726 - accuracy: 0.5847 - val_loss: 0.6840 - val_accuracy: 0.5048\n",
            "Epoch 12/50\n",
            "133/133 [==============================] - 30s 229ms/step - loss: 0.6926 - accuracy: 0.5795 - val_loss: 0.7635 - val_accuracy: 0.5096\n",
            "Epoch 13/50\n",
            "133/133 [==============================] - 30s 228ms/step - loss: 0.6776 - accuracy: 0.5922 - val_loss: 0.6726 - val_accuracy: 0.4808\n",
            "Epoch 14/50\n",
            "133/133 [==============================] - 31s 233ms/step - loss: 0.6703 - accuracy: 0.6032 - val_loss: 0.7198 - val_accuracy: 0.4856\n",
            "Epoch 15/50\n",
            "133/133 [==============================] - 31s 230ms/step - loss: 0.6814 - accuracy: 0.6096 - val_loss: 0.6697 - val_accuracy: 0.5817\n",
            "Epoch 16/50\n",
            "133/133 [==============================] - 30s 228ms/step - loss: 0.6531 - accuracy: 0.6229 - val_loss: 0.6794 - val_accuracy: 0.6058\n",
            "Epoch 17/50\n",
            "133/133 [==============================] - 30s 229ms/step - loss: 0.6570 - accuracy: 0.6362 - val_loss: 0.9950 - val_accuracy: 0.6010\n",
            "Epoch 18/50\n",
            "133/133 [==============================] - 30s 227ms/step - loss: 0.6644 - accuracy: 0.6495 - val_loss: 0.7375 - val_accuracy: 0.4663\n",
            "Epoch 19/50\n",
            "133/133 [==============================] - 31s 232ms/step - loss: 0.6563 - accuracy: 0.6403 - val_loss: 0.5911 - val_accuracy: 0.6106\n",
            "Epoch 20/50\n",
            "133/133 [==============================] - 30s 229ms/step - loss: 0.6511 - accuracy: 0.6310 - val_loss: 0.6065 - val_accuracy: 0.6202\n",
            "Epoch 21/50\n",
            "133/133 [==============================] - 30s 227ms/step - loss: 0.6625 - accuracy: 0.6443 - val_loss: 2.2645 - val_accuracy: 0.5529\n",
            "Epoch 22/50\n",
            "133/133 [==============================] - 30s 228ms/step - loss: 0.6893 - accuracy: 0.6403 - val_loss: 0.7949 - val_accuracy: 0.5673\n",
            "Epoch 23/50\n",
            "133/133 [==============================] - 31s 230ms/step - loss: 0.6503 - accuracy: 0.6356 - val_loss: 0.5157 - val_accuracy: 0.6346\n",
            "Epoch 24/50\n",
            "133/133 [==============================] - 30s 228ms/step - loss: 0.6709 - accuracy: 0.6420 - val_loss: 0.6691 - val_accuracy: 0.5096\n",
            "Epoch 25/50\n",
            "133/133 [==============================] - 31s 231ms/step - loss: 0.7324 - accuracy: 0.6460 - val_loss: 0.7543 - val_accuracy: 0.6106\n",
            "Epoch 26/50\n",
            "133/133 [==============================] - 30s 227ms/step - loss: 0.6545 - accuracy: 0.6605 - val_loss: 0.8443 - val_accuracy: 0.6058\n",
            "Epoch 27/50\n",
            "133/133 [==============================] - 31s 230ms/step - loss: 0.6507 - accuracy: 0.6518 - val_loss: 1.6605 - val_accuracy: 0.6346\n",
            "Epoch 28/50\n",
            "133/133 [==============================] - 30s 229ms/step - loss: 0.6485 - accuracy: 0.6426 - val_loss: 0.6191 - val_accuracy: 0.5481\n",
            "Epoch 29/50\n",
            "133/133 [==============================] - 31s 231ms/step - loss: 0.6510 - accuracy: 0.6536 - val_loss: 1.5628 - val_accuracy: 0.5433\n",
            "Epoch 30/50\n",
            "133/133 [==============================] - 31s 230ms/step - loss: 0.6548 - accuracy: 0.6379 - val_loss: 0.6229 - val_accuracy: 0.5625\n",
            "Epoch 31/50\n",
            "133/133 [==============================] - 30s 227ms/step - loss: 0.7727 - accuracy: 0.6177 - val_loss: 0.7590 - val_accuracy: 0.5529\n",
            "Epoch 32/50\n",
            "133/133 [==============================] - 31s 230ms/step - loss: 0.6182 - accuracy: 0.6611 - val_loss: 0.7563 - val_accuracy: 0.5962\n",
            "Epoch 33/50\n",
            "133/133 [==============================] - 31s 231ms/step - loss: 0.6697 - accuracy: 0.6345 - val_loss: 1.1549 - val_accuracy: 0.6010\n",
            "Epoch 34/50\n",
            "133/133 [==============================] - 30s 228ms/step - loss: 0.6583 - accuracy: 0.6512 - val_loss: 1.0866 - val_accuracy: 0.5721\n",
            "Epoch 35/50\n",
            "133/133 [==============================] - 30s 228ms/step - loss: 0.6278 - accuracy: 0.6547 - val_loss: 1.1395 - val_accuracy: 0.6490\n",
            "Epoch 36/50\n",
            "133/133 [==============================] - 30s 226ms/step - loss: 0.6299 - accuracy: 0.6674 - val_loss: 1.6866 - val_accuracy: 0.5288\n",
            "Epoch 37/50\n",
            "133/133 [==============================] - 31s 231ms/step - loss: 0.6298 - accuracy: 0.6744 - val_loss: 0.7956 - val_accuracy: 0.5481\n",
            "Epoch 38/50\n",
            "133/133 [==============================] - 31s 231ms/step - loss: 0.6293 - accuracy: 0.6657 - val_loss: 0.5625 - val_accuracy: 0.6683\n",
            "Epoch 39/50\n",
            "133/133 [==============================] - 30s 229ms/step - loss: 0.6362 - accuracy: 0.6680 - val_loss: 1.8374 - val_accuracy: 0.6875\n",
            "Epoch 40/50\n",
            "133/133 [==============================] - 30s 227ms/step - loss: 0.6064 - accuracy: 0.6761 - val_loss: 0.8308 - val_accuracy: 0.6587\n",
            "Epoch 41/50\n",
            "133/133 [==============================] - 31s 231ms/step - loss: 0.6116 - accuracy: 0.6854 - val_loss: 1.4965 - val_accuracy: 0.6538\n",
            "Epoch 42/50\n",
            "133/133 [==============================] - 30s 226ms/step - loss: 0.6294 - accuracy: 0.6831 - val_loss: 0.8915 - val_accuracy: 0.6683\n",
            "Epoch 43/50\n",
            "133/133 [==============================] - 31s 231ms/step - loss: 0.6158 - accuracy: 0.6738 - val_loss: 0.8635 - val_accuracy: 0.6538\n",
            "Epoch 44/50\n",
            "133/133 [==============================] - 30s 228ms/step - loss: 0.6202 - accuracy: 0.6790 - val_loss: 3.6186 - val_accuracy: 0.6010\n",
            "Epoch 45/50\n",
            "133/133 [==============================] - 30s 229ms/step - loss: 0.6240 - accuracy: 0.6674 - val_loss: 0.7227 - val_accuracy: 0.6827\n",
            "Epoch 46/50\n",
            "133/133 [==============================] - 30s 228ms/step - loss: 0.6103 - accuracy: 0.6784 - val_loss: 0.6002 - val_accuracy: 0.6731\n",
            "Epoch 47/50\n",
            "133/133 [==============================] - 30s 229ms/step - loss: 0.6267 - accuracy: 0.6709 - val_loss: 0.7317 - val_accuracy: 0.6827\n",
            "Epoch 48/50\n",
            "133/133 [==============================] - 31s 233ms/step - loss: 0.6267 - accuracy: 0.6738 - val_loss: 1.0426 - val_accuracy: 0.6731\n",
            "Epoch 49/50\n",
            "133/133 [==============================] - 31s 230ms/step - loss: 0.6272 - accuracy: 0.6790 - val_loss: 0.7635 - val_accuracy: 0.6298\n",
            "Epoch 50/50\n",
            "133/133 [==============================] - 30s 228ms/step - loss: 0.6161 - accuracy: 0.6651 - val_loss: 0.4391 - val_accuracy: 0.6635\n"
          ],
          "name": "stdout"
        }
      ]
    },
    {
      "cell_type": "code",
      "metadata": {
        "id": "yRcJBn_BCED6",
        "colab_type": "code",
        "colab": {
          "base_uri": "https://localhost:8080/",
          "height": 34
        },
        "outputId": "59537411-2d98-4e9b-ded7-43ccf149fde5"
      },
      "source": [
        "#print(history.history.keys())\n",
        "test_set.class_indices"
      ],
      "execution_count": 7,
      "outputs": [
        {
          "output_type": "execute_result",
          "data": {
            "text/plain": [
              "{'Malignant': 0, 'beningn': 1}"
            ]
          },
          "metadata": {
            "tags": []
          },
          "execution_count": 7
        }
      ]
    },
    {
      "cell_type": "code",
      "metadata": {
        "id": "8pfrLnjUgom1",
        "colab_type": "code",
        "colab": {
          "base_uri": "https://localhost:8080/",
          "height": 663
        },
        "outputId": "0f478cd8-f000-4426-af40-8588af768122"
      },
      "source": [
        "model.summary()"
      ],
      "execution_count": 8,
      "outputs": [
        {
          "output_type": "stream",
          "text": [
            "Model: \"sequential_1\"\n",
            "_________________________________________________________________\n",
            "Layer (type)                 Output Shape              Param #   \n",
            "=================================================================\n",
            "conv2d_1 (Conv2D)            (None, 148, 148, 32)      896       \n",
            "_________________________________________________________________\n",
            "activation_1 (Activation)    (None, 148, 148, 32)      0         \n",
            "_________________________________________________________________\n",
            "max_pooling2d_1 (MaxPooling2 (None, 74, 74, 32)        0         \n",
            "_________________________________________________________________\n",
            "conv2d_2 (Conv2D)            (None, 72, 72, 32)        9248      \n",
            "_________________________________________________________________\n",
            "activation_2 (Activation)    (None, 72, 72, 32)        0         \n",
            "_________________________________________________________________\n",
            "max_pooling2d_2 (MaxPooling2 (None, 36, 36, 32)        0         \n",
            "_________________________________________________________________\n",
            "conv2d_3 (Conv2D)            (None, 34, 34, 64)        18496     \n",
            "_________________________________________________________________\n",
            "activation_3 (Activation)    (None, 34, 34, 64)        0         \n",
            "_________________________________________________________________\n",
            "max_pooling2d_3 (MaxPooling2 (None, 17, 17, 64)        0         \n",
            "_________________________________________________________________\n",
            "flatten_1 (Flatten)          (None, 18496)             0         \n",
            "_________________________________________________________________\n",
            "dense_1 (Dense)              (None, 64)                1183808   \n",
            "_________________________________________________________________\n",
            "activation_4 (Activation)    (None, 64)                0         \n",
            "_________________________________________________________________\n",
            "dropout_1 (Dropout)          (None, 64)                0         \n",
            "_________________________________________________________________\n",
            "dense_2 (Dense)              (None, 1)                 65        \n",
            "_________________________________________________________________\n",
            "activation_5 (Activation)    (None, 1)                 0         \n",
            "=================================================================\n",
            "Total params: 1,212,513\n",
            "Trainable params: 1,212,513\n",
            "Non-trainable params: 0\n",
            "_________________________________________________________________\n"
          ],
          "name": "stdout"
        }
      ]
    },
    {
      "cell_type": "code",
      "metadata": {
        "id": "Ofd8sRLJAiyw",
        "colab_type": "code",
        "colab": {}
      },
      "source": [
        "model.save_weights('first_try.h5')"
      ],
      "execution_count": 9,
      "outputs": []
    },
    {
      "cell_type": "code",
      "metadata": {
        "id": "OYzvzggxjndn",
        "colab_type": "code",
        "colab": {
          "base_uri": "https://localhost:8080/",
          "height": 34
        },
        "outputId": "1c85d296-7137-4009-c51b-4742114b85e1"
      },
      "source": [
        "training_set.class_indices"
      ],
      "execution_count": 10,
      "outputs": [
        {
          "output_type": "execute_result",
          "data": {
            "text/plain": [
              "{'Malignant': 0, 'beningn': 1}"
            ]
          },
          "metadata": {
            "tags": []
          },
          "execution_count": 10
        }
      ]
    },
    {
      "cell_type": "code",
      "metadata": {
        "id": "MUEqnjEkAyDu",
        "colab_type": "code",
        "colab": {
          "base_uri": "https://localhost:8080/",
          "height": 295
        },
        "outputId": "86439280-b5ab-4ed4-f2d7-7bd0d864b1cb"
      },
      "source": [
        "import matplotlib.pyplot as plt\n",
        "\n",
        "# summarize history for accuracy\n",
        "plt.plot(history.history['accuracy'])\n",
        "plt.plot(history.history['val_accuracy'])\n",
        "plt.title('model accuracy')\n",
        "plt.ylabel('accuracy')\n",
        "plt.xlabel('epoch')\n",
        "plt.legend(['train', 'test'], loc='upper left')\n",
        "plt.show()"
      ],
      "execution_count": 11,
      "outputs": [
        {
          "output_type": "display_data",
          "data": {
            "image/png": "[encoded data removed]",
            "text/plain": [
              "<Figure size 432x288 with 1 Axes>"
            ]
          },
          "metadata": {
            "tags": [],
            "needs_background": "light"
          }
        }
      ]
    },
    {
      "cell_type": "code",
      "metadata": {
        "id": "6p9b7juDA5RJ",
        "colab_type": "code",
        "colab": {
          "base_uri": "https://localhost:8080/",
          "height": 295
        },
        "outputId": "a2e985cf-a5fb-4620-89bc-c76f9d22b2dd"
      },
      "source": [
        "# summarize history for loss\n",
        "plt.plot(history.history['loss'])\n",
        "plt.plot(history.history['val_loss'])\n",
        "plt.title('model loss')\n",
        "plt.ylabel('loss')\n",
        "plt.xlabel('epoch')\n",
        "plt.legend(['train', 'test'], loc='upper left')\n",
        "plt.show()"
      ],
      "execution_count": 12,
      "outputs": [
        {
          "output_type": "display_data",
          "data": {
            "image/png": "[encoded data removed]",
            "text/plain": [
              "<Figure size 432x288 with 1 Axes>"
            ]
          },
          "metadata": {
            "tags": [],
            "needs_background": "light"
          }
        }
      ]
    },
    {
      "cell_type": "code",
      "metadata": {
        "id": "Y1zvx61qBB1M",
        "colab_type": "code",
        "colab": {
          "base_uri": "https://localhost:8080/",
          "height": 34
        },
        "outputId": "7b20f6d1-6b98-4b87-b004-7064a1c90045"
      },
      "source": [
        "#PART 3 - Prediction\n",
        "\n",
        "import numpy as np\n",
        "from keras.preprocessing import image\n",
        "test_image = image.load_img(\n",
        "'//Dataset/Skin_cancer/testing/beningn/ISIC_0033836.jpg',\n",
        "        target_size = (150,150))\n",
        "test_image = image.img_to_array(test_image) #making it 3D array as input layer is 3D     \n",
        "test_image = np.expand_dims(test_image,axis=0) #adding bias variable\n",
        "\n",
        "%timeit  \n",
        "result = model.predict(test_set)\n",
        "\n",
        "training_set.class_indices  #to check the value of outplut class assigned\n",
        "\n",
        "if result[0] > 0.5:\n",
        "    #prediction = \"Benign\"\n",
        "    print(\"Looks like Benign !\")\n",
        "else:\n",
        "  print(\"Looks like Malignant \")\n",
        "\n"
      ],
      "execution_count": 13,
      "outputs": [
        {
          "output_type": "stream",
          "text": [
            "Looks like Benign !\n"
          ],
          "name": "stdout"
        }
      ]
    },
    {
      "cell_type": "code",
      "metadata": {
        "id": "Zy89BqtPfHBN",
        "colab_type": "code",
        "colab": {}
      },
      "source": [
        ""
      ],
      "execution_count": null,
      "outputs": []
    },
    {
      "cell_type": "code",
      "metadata": {
        "id": "7B3zetfwfT0L",
        "colab_type": "code",
        "colab": {}
      },
      "source": [
        ""
      ],
      "execution_count": null,
      "outputs": []
    },
    {
      "cell_type": "code",
      "metadata": {
        "id": "mOgSPJsI1ze_",
        "colab_type": "code",
        "colab": {}
      },
      "source": [
        ""
      ],
      "execution_count": null,
      "outputs": []
    }
  ]
}